{
  "nbformat": 4,
  "nbformat_minor": 0,
  "metadata": {
    "colab": {
      "name": "evaluation.ipynb",
      "provenance": [],
      "collapsed_sections": [],
      "authorship_tag": "ABX9TyO9VtCXAyRHilpdONjfaLbr",
      "include_colab_link": true
    },
    "kernelspec": {
      "name": "python3",
      "display_name": "Python 3"
    },
    "accelerator": "GPU"
  },
  "cells": [
    {
      "cell_type": "markdown",
      "metadata": {
        "id": "view-in-github",
        "colab_type": "text"
      },
      "source": [
        "<a href=\"https://colab.research.google.com/github/FelixSchmidt92/xLingQG-serv/blob/master/evaluation.ipynb\" target=\"_parent\"><img src=\"https://colab.research.google.com/assets/colab-badge.svg\" alt=\"Open In Colab\"/></a>"
      ]
    },
    {
      "cell_type": "code",
      "metadata": {
        "id": "svSshE2WRtH8",
        "colab_type": "code",
        "outputId": "3cc2cf0c-b50d-45f9-a30d-b1efdf2dc166",
        "colab": {
          "base_uri": "https://localhost:8080/",
          "height": 153
        }
      },
      "source": [
        "!git clone https://github.com/FelixSchmidt92/xLingQG-serv.git\n",
        "%cd xLingQG-serv"
      ],
      "execution_count": 0,
      "outputs": [
        {
          "output_type": "stream",
          "text": [
            "Cloning into 'xLingQG-serv'...\n",
            "remote: Enumerating objects: 264, done.\u001b[K\n",
            "remote: Counting objects:   0% (1/264)\u001b[K\rremote: Counting objects:   1% (3/264)\u001b[K\rremote: Counting objects:   2% (6/264)\u001b[K\rremote: Counting objects:   3% (8/264)\u001b[K\rremote: Counting objects:   4% (11/264)\u001b[K\rremote: Counting objects:   5% (14/264)\u001b[K\rremote: Counting objects:   6% (16/264)\u001b[K\rremote: Counting objects:   7% (19/264)\u001b[K\rremote: Counting objects:   8% (22/264)\u001b[K\rremote: Counting objects:   9% (24/264)\u001b[K\rremote: Counting objects:  10% (27/264)\u001b[K\rremote: Counting objects:  11% (30/264)\u001b[K\rremote: Counting objects:  12% (32/264)\u001b[K\rremote: Counting objects:  13% (35/264)\u001b[K\rremote: Counting objects:  14% (37/264)\u001b[K\rremote: Counting objects:  15% (40/264)\u001b[K\rremote: Counting objects:  16% (43/264)\u001b[K\rremote: Counting objects:  17% (45/264)\u001b[K\rremote: Counting objects:  18% (48/264)\u001b[K\rremote: Counting objects:  19% (51/264)\u001b[K\rremote: Counting objects:  20% (53/264)\u001b[K\rremote: Counting objects:  21% (56/264)\u001b[K\rremote: Counting objects:  22% (59/264)\u001b[K\rremote: Counting objects:  23% (61/264)\u001b[K\rremote: Counting objects:  24% (64/264)\u001b[K\rremote: Counting objects:  25% (66/264)\u001b[K\rremote: Counting objects:  26% (69/264)\u001b[K\rremote: Counting objects:  27% (72/264)\u001b[K\rremote: Counting objects:  28% (74/264)\u001b[K\rremote: Counting objects:  29% (77/264)\u001b[K\rremote: Counting objects:  30% (80/264)\u001b[K\rremote: Counting objects:  31% (82/264)\u001b[K\rremote: Counting objects:  32% (85/264)\u001b[K\rremote: Counting objects:  33% (88/264)\u001b[K\rremote: Counting objects:  34% (90/264)\u001b[K\rremote: Counting objects:  35% (93/264)\u001b[K\rremote: Counting objects:  36% (96/264)\u001b[K\rremote: Counting objects:  37% (98/264)\u001b[K\rremote: Counting objects:  38% (101/264)\u001b[K\rremote: Counting objects:  39% (103/264)\u001b[K\rremote: Counting objects:  40% (106/264)\u001b[K\rremote: Counting objects:  41% (109/264)\u001b[K\rremote: Counting objects:  42% (111/264)\u001b[K\rremote: Counting objects:  43% (114/264)\u001b[K\rremote: Counting objects:  44% (117/264)\u001b[K\rremote: Counting objects:  45% (119/264)\u001b[K\rremote: Counting objects:  46% (122/264)\u001b[K\rremote: Counting objects:  47% (125/264)\u001b[K\rremote: Counting objects:  48% (127/264)\u001b[K\rremote: Counting objects:  49% (130/264)\u001b[K\rremote: Counting objects:  50% (132/264)\u001b[K\rremote: Counting objects:  51% (135/264)\u001b[K\rremote: Counting objects:  52% (138/264)\u001b[K\rremote: Counting objects:  53% (140/264)\u001b[K\rremote: Counting objects:  54% (143/264)\u001b[K\rremote: Counting objects:  55% (146/264)\u001b[K\rremote: Counting objects:  56% (148/264)\u001b[K\rremote: Counting objects:  57% (151/264)\u001b[K\rremote: Counting objects:  58% (154/264)\u001b[K\rremote: Counting objects:  59% (156/264)\u001b[K\rremote: Counting objects:  60% (159/264)\u001b[K\rremote: Counting objects:  61% (162/264)\u001b[K\rremote: Counting objects:  62% (164/264)\u001b[K\rremote: Counting objects:  63% (167/264)\u001b[K\rremote: Counting objects:  64% (169/264)\u001b[K\rremote: Counting objects:  65% (172/264)\u001b[K\rremote: Counting objects:  66% (175/264)\u001b[K\rremote: Counting objects:  67% (177/264)\u001b[K\rremote: Counting objects:  68% (180/264)\u001b[K\rremote: Counting objects:  69% (183/264)\u001b[K\rremote: Counting objects:  70% (185/264)\u001b[K\rremote: Counting objects:  71% (188/264)\u001b[K\rremote: Counting objects:  72% (191/264)\u001b[K\rremote: Counting objects:  73% (193/264)\u001b[K\rremote: Counting objects:  74% (196/264)\u001b[K\rremote: Counting objects:  75% (198/264)\u001b[K\rremote: Counting objects:  76% (201/264)\u001b[K\rremote: Counting objects:  77% (204/264)\u001b[K\rremote: Counting objects:  78% (206/264)\u001b[K\rremote: Counting objects:  79% (209/264)\u001b[K\rremote: Counting objects:  80% (212/264)\u001b[K\rremote: Counting objects:  81% (214/264)\u001b[K\rremote: Counting objects:  82% (217/264)\u001b[K\rremote: Counting objects:  83% (220/264)\u001b[K\rremote: Counting objects:  84% (222/264)\u001b[K\rremote: Counting objects:  85% (225/264)\u001b[K\rremote: Counting objects:  86% (228/264)\u001b[K\rremote: Counting objects:  87% (230/264)\u001b[K\rremote: Counting objects:  88% (233/264)\u001b[K\rremote: Counting objects:  89% (235/264)\u001b[K\rremote: Counting objects:  90% (238/264)\u001b[K\rremote: Counting objects:  91% (241/264)\u001b[K\rremote: Counting objects:  92% (243/264)\u001b[K\rremote: Counting objects:  93% (246/264)\u001b[K\rremote: Counting objects:  94% (249/264)\u001b[K\rremote: Counting objects:  95% (251/264)\u001b[K\rremote: Counting objects:  96% (254/264)\u001b[K\rremote: Counting objects:  97% (257/264)\u001b[K\rremote: Counting objects:  98% (259/264)\u001b[K\rremote: Counting objects:  99% (262/264)\u001b[K\rremote: Counting objects: 100% (264/264)\u001b[K\rremote: Counting objects: 100% (264/264), done.\u001b[K\n",
            "remote: Compressing objects: 100% (180/180), done.\u001b[K\n",
            "remote: Total 264 (delta 128), reused 189 (delta 63), pack-reused 0\u001b[K\n",
            "Receiving objects: 100% (264/264), 2.60 MiB | 5.82 MiB/s, done.\n",
            "Resolving deltas: 100% (128/128), done.\n",
            "/content/xLingQG-serv\n"
          ],
          "name": "stdout"
        }
      ]
    },
    {
      "cell_type": "code",
      "metadata": {
        "id": "flEw4h1MR_Cf",
        "colab_type": "code",
        "outputId": "d4bf55b0-0e8d-435d-acaf-2b8c17d23703",
        "colab": {
          "base_uri": "https://localhost:8080/",
          "height": 1000
        }
      },
      "source": [
        "!pip install -r requirements.txt"
      ],
      "execution_count": 0,
      "outputs": [
        {
          "output_type": "stream",
          "text": [
            "Collecting OpenNMT-py==1.0.2\n",
            "\u001b[?25l  Downloading https://files.pythonhosted.org/packages/b3/1c/48faee4ea981aa96292d03cfd5a43f415ae03309db9ab4f625dd4aa6dc71/OpenNMT_py-1.0.2-py3-none-any.whl (183kB)\n",
            "\u001b[K     |████████████████████████████████| 184kB 6.4MB/s \n",
            "\u001b[?25hCollecting fairseq==0.9.0\n",
            "\u001b[?25l  Downloading https://files.pythonhosted.org/packages/67/bf/de299e082e7af010d35162cb9a185dc6c17db71624590f2f379aeb2519ff/fairseq-0.9.0.tar.gz (306kB)\n",
            "\u001b[K     |████████████████████████████████| 307kB 37.2MB/s \n",
            "\u001b[?25hCollecting fastBPE==0.1.0\n",
            "  Downloading https://files.pythonhosted.org/packages/e1/37/f97181428a5d151501b90b2cebedf97c81b034ace753606a3cda5ad4e6e2/fastBPE-0.1.0.tar.gz\n",
            "Collecting sacremoses==0.0.38\n",
            "\u001b[?25l  Downloading https://files.pythonhosted.org/packages/a6/b4/7a41d630547a4afd58143597d5a49e07bfd4c42914d8335b2a5657efc14b/sacremoses-0.0.38.tar.gz (860kB)\n",
            "\u001b[K     |████████████████████████████████| 870kB 29.8MB/s \n",
            "\u001b[?25hCollecting pytest==5.4.0\n",
            "\u001b[?25l  Downloading https://files.pythonhosted.org/packages/6a/83/7a83c0e85388b0774e06b81b16087da946c05b70604083641266be61793d/pytest-5.4.0-py3-none-any.whl (247kB)\n",
            "\u001b[K     |████████████████████████████████| 256kB 41.8MB/s \n",
            "\u001b[?25hCollecting flask==1.1.1\n",
            "\u001b[?25l  Downloading https://files.pythonhosted.org/packages/9b/93/628509b8d5dc749656a9641f4caf13540e2cdec85276964ff8f43bbb1d3b/Flask-1.1.1-py2.py3-none-any.whl (94kB)\n",
            "\u001b[K     |████████████████████████████████| 102kB 11.3MB/s \n",
            "\u001b[?25hCollecting gdown==3.10.1\n",
            "  Downloading https://files.pythonhosted.org/packages/57/fc/2ad01a54732b0d3d3636221f3e30795e409d958f0ad1f32e8e8563f845ce/gdown-3.10.1.tar.gz\n",
            "Collecting sacrebleu==1.4.6\n",
            "\u001b[?25l  Downloading https://files.pythonhosted.org/packages/f5/58/5c6cc352ea6271125325950715cf8b59b77abe5e93cf29f6e60b491a31d9/sacrebleu-1.4.6-py3-none-any.whl (59kB)\n",
            "\u001b[K     |████████████████████████████████| 61kB 8.6MB/s \n",
            "\u001b[?25hCollecting spacy==2.1.9\n",
            "\u001b[?25l  Downloading https://files.pythonhosted.org/packages/41/5b/e07dd3bf104237bce4b398558b104c8e500333d6f30eabe3fa9685356b7d/spacy-2.1.9-cp36-cp36m-manylinux1_x86_64.whl (30.8MB)\n",
            "\u001b[K     |████████████████████████████████| 30.9MB 97kB/s \n",
            "\u001b[?25hRequirement already satisfied: torch>=1.4.0 in /usr/local/lib/python3.6/dist-packages (from OpenNMT-py==1.0.2->-r requirements.txt (line 1)) (1.4.0)\n",
            "Collecting waitress\n",
            "\u001b[?25l  Downloading https://files.pythonhosted.org/packages/a8/ca/ede3ed29723ca944f6e77bd1d7b38c271dd801c7d6a11ab6037597e4fd5b/waitress-1.4.3-py2.py3-none-any.whl (148kB)\n",
            "\u001b[K     |████████████████████████████████| 153kB 44.7MB/s \n",
            "\u001b[?25hCollecting pyonmttok==1.*; platform_system == \"Linux\"\n",
            "\u001b[?25l  Downloading https://files.pythonhosted.org/packages/08/20/3c57198ffe690b580fbf23d33d5000eb411862e60e4bb6853b61dc989187/pyonmttok-1.18.3-cp36-cp36m-manylinux1_x86_64.whl (2.2MB)\n",
            "\u001b[K     |████████████████████████████████| 2.2MB 40.1MB/s \n",
            "\u001b[?25hRequirement already satisfied: future in /usr/local/lib/python3.6/dist-packages (from OpenNMT-py==1.0.2->-r requirements.txt (line 1)) (0.16.0)\n",
            "Collecting torchtext==0.4.0\n",
            "\u001b[?25l  Downloading https://files.pythonhosted.org/packages/43/94/929d6bd236a4fb5c435982a7eb9730b78dcd8659acf328fd2ef9de85f483/torchtext-0.4.0-py3-none-any.whl (53kB)\n",
            "\u001b[K     |████████████████████████████████| 61kB 8.3MB/s \n",
            "\u001b[?25hRequirement already satisfied: six in /usr/local/lib/python3.6/dist-packages (from OpenNMT-py==1.0.2->-r requirements.txt (line 1)) (1.12.0)\n",
            "Requirement already satisfied: tensorboard>=1.14 in /usr/local/lib/python3.6/dist-packages (from OpenNMT-py==1.0.2->-r requirements.txt (line 1)) (2.2.0)\n",
            "Collecting configargparse\n",
            "\u001b[?25l  Downloading https://files.pythonhosted.org/packages/6d/74/be92e22dac88b31adc4079134360486117de4bed4ccfa2ff9ddb2d24a570/ConfigArgParse-1.2.1.tar.gz (42kB)\n",
            "\u001b[K     |████████████████████████████████| 51kB 7.9MB/s \n",
            "\u001b[?25hCollecting tqdm~=4.30.0\n",
            "\u001b[?25l  Downloading https://files.pythonhosted.org/packages/76/4c/103a4d3415dafc1ddfe6a6624333971756e2d3dd8c6dc0f520152855f040/tqdm-4.30.0-py2.py3-none-any.whl (47kB)\n",
            "\u001b[K     |████████████████████████████████| 51kB 7.4MB/s \n",
            "\u001b[?25hRequirement already satisfied: cffi in /usr/local/lib/python3.6/dist-packages (from fairseq==0.9.0->-r requirements.txt (line 2)) (1.14.0)\n",
            "Requirement already satisfied: cython in /usr/local/lib/python3.6/dist-packages (from fairseq==0.9.0->-r requirements.txt (line 2)) (0.29.16)\n",
            "Requirement already satisfied: numpy in /usr/local/lib/python3.6/dist-packages (from fairseq==0.9.0->-r requirements.txt (line 2)) (1.18.2)\n",
            "Requirement already satisfied: regex in /usr/local/lib/python3.6/dist-packages (from fairseq==0.9.0->-r requirements.txt (line 2)) (2019.12.20)\n",
            "Requirement already satisfied: click in /usr/local/lib/python3.6/dist-packages (from sacremoses==0.0.38->-r requirements.txt (line 4)) (7.1.1)\n",
            "Requirement already satisfied: joblib in /usr/local/lib/python3.6/dist-packages (from sacremoses==0.0.38->-r requirements.txt (line 4)) (0.14.1)\n",
            "Requirement already satisfied: packaging in /usr/local/lib/python3.6/dist-packages (from pytest==5.4.0->-r requirements.txt (line 5)) (20.3)\n",
            "Requirement already satisfied: attrs>=17.4.0 in /usr/local/lib/python3.6/dist-packages (from pytest==5.4.0->-r requirements.txt (line 5)) (19.3.0)\n",
            "Requirement already satisfied: py>=1.5.0 in /usr/local/lib/python3.6/dist-packages (from pytest==5.4.0->-r requirements.txt (line 5)) (1.8.1)\n",
            "Requirement already satisfied: more-itertools>=4.0.0 in /usr/local/lib/python3.6/dist-packages (from pytest==5.4.0->-r requirements.txt (line 5)) (8.2.0)\n",
            "Requirement already satisfied: importlib-metadata>=0.12; python_version < \"3.8\" in /usr/local/lib/python3.6/dist-packages (from pytest==5.4.0->-r requirements.txt (line 5)) (1.6.0)\n",
            "Requirement already satisfied: wcwidth in /usr/local/lib/python3.6/dist-packages (from pytest==5.4.0->-r requirements.txt (line 5)) (0.1.9)\n",
            "Collecting pluggy<1.0,>=0.12\n",
            "  Downloading https://files.pythonhosted.org/packages/a0/28/85c7aa31b80d150b772fbe4a229487bc6644da9ccb7e427dd8cc60cb8a62/pluggy-0.13.1-py2.py3-none-any.whl\n",
            "Requirement already satisfied: Werkzeug>=0.15 in /usr/local/lib/python3.6/dist-packages (from flask==1.1.1->-r requirements.txt (line 6)) (1.0.1)\n",
            "Requirement already satisfied: Jinja2>=2.10.1 in /usr/local/lib/python3.6/dist-packages (from flask==1.1.1->-r requirements.txt (line 6)) (2.11.2)\n",
            "Requirement already satisfied: itsdangerous>=0.24 in /usr/local/lib/python3.6/dist-packages (from flask==1.1.1->-r requirements.txt (line 6)) (1.1.0)\n",
            "Requirement already satisfied: filelock in /usr/local/lib/python3.6/dist-packages (from gdown==3.10.1->-r requirements.txt (line 7)) (3.0.12)\n",
            "Requirement already satisfied: requests[socks] in /usr/local/lib/python3.6/dist-packages (from gdown==3.10.1->-r requirements.txt (line 7)) (2.21.0)\n",
            "Collecting portalocker\n",
            "  Downloading https://files.pythonhosted.org/packages/53/84/7b3146ec6378d28abc73ab484f09f47dfa008ad6f03f33d90a369f880e25/portalocker-1.7.0-py2.py3-none-any.whl\n",
            "Requirement already satisfied: typing in /usr/local/lib/python3.6/dist-packages (from sacrebleu==1.4.6->-r requirements.txt (line 8)) (3.6.6)\n",
            "Collecting mecab-python3\n",
            "\u001b[?25l  Downloading https://files.pythonhosted.org/packages/18/49/b55a839a77189042960bf96490640c44816073f917d489acbc5d79fa5cc3/mecab_python3-0.996.5-cp36-cp36m-manylinux2010_x86_64.whl (17.1MB)\n",
            "\u001b[K     |████████████████████████████████| 17.1MB 199kB/s \n",
            "\u001b[?25hRequirement already satisfied: murmurhash<1.1.0,>=0.28.0 in /usr/local/lib/python3.6/dist-packages (from spacy==2.1.9->-r requirements.txt (line 9)) (1.0.2)\n",
            "Collecting blis<0.3.0,>=0.2.2\n",
            "\u001b[?25l  Downloading https://files.pythonhosted.org/packages/34/46/b1d0bb71d308e820ed30316c5f0a017cb5ef5f4324bcbc7da3cf9d3b075c/blis-0.2.4-cp36-cp36m-manylinux1_x86_64.whl (3.2MB)\n",
            "\u001b[K     |████████████████████████████████| 3.2MB 33.4MB/s \n",
            "\u001b[?25hCollecting thinc<7.1.0,>=7.0.8\n",
            "\u001b[?25l  Downloading https://files.pythonhosted.org/packages/18/a5/9ace20422e7bb1bdcad31832ea85c52a09900cd4a7ce711246bfb92206ba/thinc-7.0.8-cp36-cp36m-manylinux1_x86_64.whl (2.1MB)\n",
            "\u001b[K     |████████████████████████████████| 2.1MB 35.1MB/s \n",
            "\u001b[?25hRequirement already satisfied: cymem<2.1.0,>=2.0.2 in /usr/local/lib/python3.6/dist-packages (from spacy==2.1.9->-r requirements.txt (line 9)) (2.0.3)\n",
            "Requirement already satisfied: srsly<1.1.0,>=0.0.6 in /usr/local/lib/python3.6/dist-packages (from spacy==2.1.9->-r requirements.txt (line 9)) (1.0.2)\n",
            "Requirement already satisfied: wasabi<1.1.0,>=0.2.0 in /usr/local/lib/python3.6/dist-packages (from spacy==2.1.9->-r requirements.txt (line 9)) (0.6.0)\n",
            "Collecting preshed<2.1.0,>=2.0.1\n",
            "\u001b[?25l  Downloading https://files.pythonhosted.org/packages/20/93/f222fb957764a283203525ef20e62008675fd0a14ffff8cc1b1490147c63/preshed-2.0.1-cp36-cp36m-manylinux1_x86_64.whl (83kB)\n",
            "\u001b[K     |████████████████████████████████| 92kB 10.7MB/s \n",
            "\u001b[?25hCollecting plac<1.0.0,>=0.9.6\n",
            "  Downloading https://files.pythonhosted.org/packages/9e/9b/62c60d2f5bc135d2aa1d8c8a86aaf84edb719a59c7f11a4316259e61a298/plac-0.9.6-py2.py3-none-any.whl\n",
            "Requirement already satisfied: tensorboard-plugin-wit>=1.6.0 in /usr/local/lib/python3.6/dist-packages (from tensorboard>=1.14->OpenNMT-py==1.0.2->-r requirements.txt (line 1)) (1.6.0.post3)\n",
            "Requirement already satisfied: google-auth<2,>=1.6.3 in /usr/local/lib/python3.6/dist-packages (from tensorboard>=1.14->OpenNMT-py==1.0.2->-r requirements.txt (line 1)) (1.7.2)\n",
            "Requirement already satisfied: google-auth-oauthlib<0.5,>=0.4.1 in /usr/local/lib/python3.6/dist-packages (from tensorboard>=1.14->OpenNMT-py==1.0.2->-r requirements.txt (line 1)) (0.4.1)\n",
            "Requirement already satisfied: markdown>=2.6.8 in /usr/local/lib/python3.6/dist-packages (from tensorboard>=1.14->OpenNMT-py==1.0.2->-r requirements.txt (line 1)) (3.2.1)\n",
            "Requirement already satisfied: protobuf>=3.6.0 in /usr/local/lib/python3.6/dist-packages (from tensorboard>=1.14->OpenNMT-py==1.0.2->-r requirements.txt (line 1)) (3.10.0)\n",
            "Requirement already satisfied: setuptools>=41.0.0 in /usr/local/lib/python3.6/dist-packages (from tensorboard>=1.14->OpenNMT-py==1.0.2->-r requirements.txt (line 1)) (46.1.3)\n",
            "Requirement already satisfied: grpcio>=1.24.3 in /usr/local/lib/python3.6/dist-packages (from tensorboard>=1.14->OpenNMT-py==1.0.2->-r requirements.txt (line 1)) (1.28.1)\n",
            "Requirement already satisfied: wheel>=0.26; python_version >= \"3\" in /usr/local/lib/python3.6/dist-packages (from tensorboard>=1.14->OpenNMT-py==1.0.2->-r requirements.txt (line 1)) (0.34.2)\n",
            "Requirement already satisfied: absl-py>=0.4 in /usr/local/lib/python3.6/dist-packages (from tensorboard>=1.14->OpenNMT-py==1.0.2->-r requirements.txt (line 1)) (0.9.0)\n",
            "Requirement already satisfied: pycparser in /usr/local/lib/python3.6/dist-packages (from cffi->fairseq==0.9.0->-r requirements.txt (line 2)) (2.20)\n",
            "Requirement already satisfied: pyparsing>=2.0.2 in /usr/local/lib/python3.6/dist-packages (from packaging->pytest==5.4.0->-r requirements.txt (line 5)) (2.4.7)\n",
            "Requirement already satisfied: zipp>=0.5 in /usr/local/lib/python3.6/dist-packages (from importlib-metadata>=0.12; python_version < \"3.8\"->pytest==5.4.0->-r requirements.txt (line 5)) (3.1.0)\n",
            "Requirement already satisfied: MarkupSafe>=0.23 in /usr/local/lib/python3.6/dist-packages (from Jinja2>=2.10.1->flask==1.1.1->-r requirements.txt (line 6)) (1.1.1)\n",
            "Requirement already satisfied: idna<2.9,>=2.5 in /usr/local/lib/python3.6/dist-packages (from requests[socks]->gdown==3.10.1->-r requirements.txt (line 7)) (2.8)\n",
            "Requirement already satisfied: certifi>=2017.4.17 in /usr/local/lib/python3.6/dist-packages (from requests[socks]->gdown==3.10.1->-r requirements.txt (line 7)) (2020.4.5.1)\n",
            "Requirement already satisfied: chardet<3.1.0,>=3.0.2 in /usr/local/lib/python3.6/dist-packages (from requests[socks]->gdown==3.10.1->-r requirements.txt (line 7)) (3.0.4)\n",
            "Requirement already satisfied: urllib3<1.25,>=1.21.1 in /usr/local/lib/python3.6/dist-packages (from requests[socks]->gdown==3.10.1->-r requirements.txt (line 7)) (1.24.3)\n",
            "Requirement already satisfied: PySocks!=1.5.7,>=1.5.6; extra == \"socks\" in /usr/local/lib/python3.6/dist-packages (from requests[socks]->gdown==3.10.1->-r requirements.txt (line 7)) (1.7.1)\n",
            "Requirement already satisfied: pyasn1-modules>=0.2.1 in /usr/local/lib/python3.6/dist-packages (from google-auth<2,>=1.6.3->tensorboard>=1.14->OpenNMT-py==1.0.2->-r requirements.txt (line 1)) (0.2.8)\n",
            "Requirement already satisfied: cachetools<3.2,>=2.0.0 in /usr/local/lib/python3.6/dist-packages (from google-auth<2,>=1.6.3->tensorboard>=1.14->OpenNMT-py==1.0.2->-r requirements.txt (line 1)) (3.1.1)\n",
            "Requirement already satisfied: rsa<4.1,>=3.1.4 in /usr/local/lib/python3.6/dist-packages (from google-auth<2,>=1.6.3->tensorboard>=1.14->OpenNMT-py==1.0.2->-r requirements.txt (line 1)) (4.0)\n",
            "Requirement already satisfied: requests-oauthlib>=0.7.0 in /usr/local/lib/python3.6/dist-packages (from google-auth-oauthlib<0.5,>=0.4.1->tensorboard>=1.14->OpenNMT-py==1.0.2->-r requirements.txt (line 1)) (1.3.0)\n",
            "Requirement already satisfied: pyasn1<0.5.0,>=0.4.6 in /usr/local/lib/python3.6/dist-packages (from pyasn1-modules>=0.2.1->google-auth<2,>=1.6.3->tensorboard>=1.14->OpenNMT-py==1.0.2->-r requirements.txt (line 1)) (0.4.8)\n",
            "Requirement already satisfied: oauthlib>=3.0.0 in /usr/local/lib/python3.6/dist-packages (from requests-oauthlib>=0.7.0->google-auth-oauthlib<0.5,>=0.4.1->tensorboard>=1.14->OpenNMT-py==1.0.2->-r requirements.txt (line 1)) (3.1.0)\n",
            "Building wheels for collected packages: fairseq, fastBPE, sacremoses, gdown, configargparse\n",
            "  Building wheel for fairseq (setup.py) ... \u001b[?25l\u001b[?25hdone\n",
            "  Created wheel for fairseq: filename=fairseq-0.9.0-cp36-cp36m-linux_x86_64.whl size=2015456 sha256=6dafec835638edaab6045eb8809fe835112956f5067e1dc7cca99a693247faf7\n",
            "  Stored in directory: /root/.cache/pip/wheels/37/3e/1b/0fa30695dcba41e4b0088067fa40f3328d1e8ee78c22cd4766\n",
            "  Building wheel for fastBPE (setup.py) ... \u001b[?25l\u001b[?25hdone\n",
            "  Created wheel for fastBPE: filename=fastBPE-0.1.0-cp36-cp36m-linux_x86_64.whl size=477546 sha256=90b63aaf8f12a7ff10495d99483546847d6bb9f16258eea4590f54e01adc60b0\n",
            "  Stored in directory: /root/.cache/pip/wheels/f3/0c/9c/fc62058b4d473a5602bcd3d3edfece796f123875379ea82d79\n",
            "  Building wheel for sacremoses (setup.py) ... \u001b[?25l\u001b[?25hdone\n",
            "  Created wheel for sacremoses: filename=sacremoses-0.0.38-cp36-none-any.whl size=884628 sha256=e3f24c66bb6e9db2c920255750d4c047693b0390f75505f0c680b50a2032167d\n",
            "  Stored in directory: /root/.cache/pip/wheels/6d/ec/1a/21b8912e35e02741306f35f66c785f3afe94de754a0eaf1422\n",
            "  Building wheel for gdown (setup.py) ... \u001b[?25l\u001b[?25hdone\n",
            "  Created wheel for gdown: filename=gdown-3.10.1-cp36-none-any.whl size=8984 sha256=d2e61ef5b4f9643190860630ec04b7c7825328ab88d86067dd9013d6926ef712\n",
            "  Stored in directory: /root/.cache/pip/wheels/6c/eb/7c/a2e1b8793fb0e9496d17d260c61deea246d45546797f74bf65\n",
            "  Building wheel for configargparse (setup.py) ... \u001b[?25l\u001b[?25hdone\n",
            "  Created wheel for configargparse: filename=ConfigArgParse-1.2.1-cp36-none-any.whl size=19266 sha256=50004172f201d644f7b3a797face2d572c770d5a6f9ec9e912fbee04d457f5c1\n",
            "  Stored in directory: /root/.cache/pip/wheels/76/32/15/c284be210ac2e0b87d486c59eda286976b76275cd86f81b59d\n",
            "Successfully built fairseq fastBPE sacremoses gdown configargparse\n",
            "\u001b[31mERROR: en-core-web-sm 2.2.5 has requirement spacy>=2.2.2, but you'll have spacy 2.1.9 which is incompatible.\u001b[0m\n",
            "\u001b[31mERROR: datascience 0.10.6 has requirement folium==0.2.1, but you'll have folium 0.8.3 which is incompatible.\u001b[0m\n",
            "Installing collected packages: flask, waitress, pyonmttok, tqdm, torchtext, configargparse, OpenNMT-py, portalocker, mecab-python3, sacrebleu, fairseq, fastBPE, sacremoses, pluggy, pytest, gdown, blis, preshed, plac, thinc, spacy\n",
            "  Found existing installation: Flask 1.1.2\n",
            "    Uninstalling Flask-1.1.2:\n",
            "      Successfully uninstalled Flask-1.1.2\n",
            "  Found existing installation: tqdm 4.38.0\n",
            "    Uninstalling tqdm-4.38.0:\n",
            "      Successfully uninstalled tqdm-4.38.0\n",
            "  Found existing installation: torchtext 0.3.1\n",
            "    Uninstalling torchtext-0.3.1:\n",
            "      Successfully uninstalled torchtext-0.3.1\n",
            "  Found existing installation: pluggy 0.7.1\n",
            "    Uninstalling pluggy-0.7.1:\n",
            "      Successfully uninstalled pluggy-0.7.1\n",
            "  Found existing installation: pytest 3.6.4\n",
            "    Uninstalling pytest-3.6.4:\n",
            "      Successfully uninstalled pytest-3.6.4\n",
            "  Found existing installation: gdown 3.6.4\n",
            "    Uninstalling gdown-3.6.4:\n",
            "      Successfully uninstalled gdown-3.6.4\n",
            "  Found existing installation: blis 0.4.1\n",
            "    Uninstalling blis-0.4.1:\n",
            "      Successfully uninstalled blis-0.4.1\n",
            "  Found existing installation: preshed 3.0.2\n",
            "    Uninstalling preshed-3.0.2:\n",
            "      Successfully uninstalled preshed-3.0.2\n",
            "  Found existing installation: plac 1.1.3\n",
            "    Uninstalling plac-1.1.3:\n",
            "      Successfully uninstalled plac-1.1.3\n",
            "  Found existing installation: thinc 7.4.0\n",
            "    Uninstalling thinc-7.4.0:\n",
            "      Successfully uninstalled thinc-7.4.0\n",
            "  Found existing installation: spacy 2.2.4\n",
            "    Uninstalling spacy-2.2.4:\n",
            "      Successfully uninstalled spacy-2.2.4\n",
            "Successfully installed OpenNMT-py-1.0.2 blis-0.2.4 configargparse-1.2.1 fairseq-0.9.0 fastBPE-0.1.0 flask-1.1.1 gdown-3.10.1 mecab-python3-0.996.5 plac-0.9.6 pluggy-0.13.1 portalocker-1.7.0 preshed-2.0.1 pyonmttok-1.18.3 pytest-5.4.0 sacrebleu-1.4.6 sacremoses-0.0.38 spacy-2.1.9 thinc-7.0.8 torchtext-0.4.0 tqdm-4.30.0 waitress-1.4.3\n"
          ],
          "name": "stdout"
        },
        {
          "output_type": "display_data",
          "data": {
            "application/vnd.colab-display-data+json": {
              "pip_warning": {
                "packages": [
                  "tqdm"
                ]
              }
            }
          },
          "metadata": {
            "tags": []
          }
        }
      ]
    },
    {
      "cell_type": "code",
      "metadata": {
        "id": "yEYSZi5XSfgL",
        "colab_type": "code",
        "outputId": "d07d07ce-adee-4927-dbc9-a7a7b25adc6a",
        "colab": {
          "base_uri": "https://localhost:8080/",
          "height": 391
        }
      },
      "source": [
        "%mkdir models\n",
        "%cd models\n",
        "!gdown -O dict.de.txt https://drive.google.com/uc?id=1OrVxjEaYQEPz1tt1ZtC5Fn5VdLjUtKHD\n",
        "!gdown -O dict.en.txt https://drive.google.com/uc?id=1v590QMcRS6HhB397Yv_DbYq1dbA4YK_U\n",
        "!gdown -O bpecodes https://drive.google.com/uc?id=16Da2mkzWYBpMRy72zcxsPILsXoiynulj\n",
        "!gdown -O translation_epoch14.pt https://drive.google.com/uc?id=1Z_SIi6gQz2sCYwnRZzfWjt31HauSxHUI\n",
        "!gdown -O qg_copy_attn_epoch10.pt https://drive.google.com/uc?id=1mIh6ObplggUbto1TMoVuCZNii54CKidX\n",
        "%cd .."
      ],
      "execution_count": 0,
      "outputs": [
        {
          "output_type": "stream",
          "text": [
            "/content/xLingQG-serv/models\n",
            "Downloading...\n",
            "From: https://drive.google.com/uc?id=1OrVxjEaYQEPz1tt1ZtC5Fn5VdLjUtKHD\n",
            "To: /content/xLingQG-serv/models/dict.de.txt\n",
            "100% 741k/741k [00:00<00:00, 96.2MB/s]\n",
            "Downloading...\n",
            "From: https://drive.google.com/uc?id=1v590QMcRS6HhB397Yv_DbYq1dbA4YK_U\n",
            "To: /content/xLingQG-serv/models/dict.en.txt\n",
            "100% 741k/741k [00:00<00:00, 130MB/s]\n",
            "Downloading...\n",
            "From: https://drive.google.com/uc?id=16Da2mkzWYBpMRy72zcxsPILsXoiynulj\n",
            "To: /content/xLingQG-serv/models/bpecodes\n",
            "100% 524k/524k [00:00<00:00, 117MB/s]\n",
            "Downloading...\n",
            "From: https://drive.google.com/uc?id=1Z_SIi6gQz2sCYwnRZzfWjt31HauSxHUI\n",
            "To: /content/xLingQG-serv/models/translation_epoch14.pt\n",
            "2.87GB [00:39, 72.2MB/s]\n",
            "Downloading...\n",
            "From: https://drive.google.com/uc?id=1mIh6ObplggUbto1TMoVuCZNii54CKidX\n",
            "To: /content/xLingQG-serv/models/qg_copy_attn_epoch10.pt\n",
            "268MB [00:07, 33.7MB/s]\n",
            "/content/xLingQG-serv\n"
          ],
          "name": "stdout"
        }
      ]
    },
    {
      "cell_type": "code",
      "metadata": {
        "id": "ReMwnnBfBDVk",
        "colab_type": "code",
        "outputId": "644e82d1-1814-4ede-b754-79bb2023a7bd",
        "colab": {
          "base_uri": "https://localhost:8080/",
          "height": 1000
        }
      },
      "source": [
        "!git clone https://github.com/huggingface/neuralcoref.git\n",
        "%cd neuralcoref\n",
        "!pip install -r requirements.txt\n",
        "!pip install -e ."
      ],
      "execution_count": 0,
      "outputs": [
        {
          "output_type": "stream",
          "text": [
            "Cloning into 'neuralcoref'...\n",
            "remote: Enumerating objects: 48, done.\u001b[K\n",
            "remote: Counting objects:   2% (1/48)\u001b[K\rremote: Counting objects:   4% (2/48)\u001b[K\rremote: Counting objects:   6% (3/48)\u001b[K\rremote: Counting objects:   8% (4/48)\u001b[K\rremote: Counting objects:  10% (5/48)\u001b[K\rremote: Counting objects:  12% (6/48)\u001b[K\rremote: Counting objects:  14% (7/48)\u001b[K\rremote: Counting objects:  16% (8/48)\u001b[K\rremote: Counting objects:  18% (9/48)\u001b[K\rremote: Counting objects:  20% (10/48)\u001b[K\rremote: Counting objects:  22% (11/48)\u001b[K\rremote: Counting objects:  25% (12/48)\u001b[K\rremote: Counting objects:  27% (13/48)\u001b[K\rremote: Counting objects:  29% (14/48)\u001b[K\rremote: Counting objects:  31% (15/48)\u001b[K\rremote: Counting objects:  33% (16/48)\u001b[K\rremote: Counting objects:  35% (17/48)\u001b[K\rremote: Counting objects:  37% (18/48)\u001b[K\rremote: Counting objects:  39% (19/48)\u001b[K\rremote: Counting objects:  41% (20/48)\u001b[K\rremote: Counting objects:  43% (21/48)\u001b[K\rremote: Counting objects:  45% (22/48)\u001b[K\rremote: Counting objects:  47% (23/48)\u001b[K\rremote: Counting objects:  50% (24/48)\u001b[K\rremote: Counting objects:  52% (25/48)\u001b[K\rremote: Counting objects:  54% (26/48)\u001b[K\rremote: Counting objects:  56% (27/48)\u001b[K\rremote: Counting objects:  58% (28/48)\u001b[K\rremote: Counting objects:  60% (29/48)\u001b[K\rremote: Counting objects:  62% (30/48)\u001b[K\rremote: Counting objects:  64% (31/48)\u001b[K\rremote: Counting objects:  66% (32/48)\u001b[K\rremote: Counting objects:  68% (33/48)\u001b[K\rremote: Counting objects:  70% (34/48)\u001b[K\rremote: Counting objects:  72% (35/48)\u001b[K\rremote: Counting objects:  75% (36/48)\u001b[K\rremote: Counting objects:  77% (37/48)\u001b[K\rremote: Counting objects:  79% (38/48)\u001b[K\rremote: Counting objects:  81% (39/48)\u001b[K\rremote: Counting objects:  83% (40/48)\u001b[K\rremote: Counting objects:  85% (41/48)\u001b[K\rremote: Counting objects:  87% (42/48)\u001b[K\rremote: Counting objects:  89% (43/48)\u001b[K\rremote: Counting objects:  91% (44/48)\u001b[K\rremote: Counting objects:  93% (45/48)\u001b[K\rremote: Counting objects:  95% (46/48)\u001b[K\rremote: Counting objects:  97% (47/48)\u001b[K\rremote: Counting objects: 100% (48/48)\u001b[K\rremote: Counting objects: 100% (48/48), done.\u001b[K\n",
            "remote: Compressing objects: 100% (44/44), done.\u001b[K\n",
            "remote: Total 739 (delta 14), reused 10 (delta 1), pack-reused 691\u001b[K\n",
            "Receiving objects: 100% (739/739), 67.86 MiB | 24.84 MiB/s, done.\n",
            "Resolving deltas: 100% (368/368), done.\n",
            "/content/xLingQG-serv/neuralcoref\n",
            "Requirement already satisfied: spacy<2.2.0,>=2.1.0 in /usr/local/lib/python3.6/dist-packages (from -r requirements.txt (line 1)) (2.1.9)\n",
            "Requirement already satisfied: cython>=0.25 in /usr/local/lib/python3.6/dist-packages (from -r requirements.txt (line 2)) (0.29.16)\n",
            "Requirement already satisfied: pytest in /usr/local/lib/python3.6/dist-packages (from -r requirements.txt (line 3)) (5.4.0)\n",
            "Requirement already satisfied: preshed<2.1.0,>=2.0.1 in /usr/local/lib/python3.6/dist-packages (from spacy<2.2.0,>=2.1.0->-r requirements.txt (line 1)) (2.0.1)\n",
            "Requirement already satisfied: thinc<7.1.0,>=7.0.8 in /usr/local/lib/python3.6/dist-packages (from spacy<2.2.0,>=2.1.0->-r requirements.txt (line 1)) (7.0.8)\n",
            "Requirement already satisfied: requests<3.0.0,>=2.13.0 in /usr/local/lib/python3.6/dist-packages (from spacy<2.2.0,>=2.1.0->-r requirements.txt (line 1)) (2.21.0)\n",
            "Requirement already satisfied: numpy>=1.15.0 in /usr/local/lib/python3.6/dist-packages (from spacy<2.2.0,>=2.1.0->-r requirements.txt (line 1)) (1.18.2)\n",
            "Requirement already satisfied: cymem<2.1.0,>=2.0.2 in /usr/local/lib/python3.6/dist-packages (from spacy<2.2.0,>=2.1.0->-r requirements.txt (line 1)) (2.0.3)\n",
            "Requirement already satisfied: plac<1.0.0,>=0.9.6 in /usr/local/lib/python3.6/dist-packages (from spacy<2.2.0,>=2.1.0->-r requirements.txt (line 1)) (0.9.6)\n",
            "Requirement already satisfied: murmurhash<1.1.0,>=0.28.0 in /usr/local/lib/python3.6/dist-packages (from spacy<2.2.0,>=2.1.0->-r requirements.txt (line 1)) (1.0.2)\n",
            "Requirement already satisfied: srsly<1.1.0,>=0.0.6 in /usr/local/lib/python3.6/dist-packages (from spacy<2.2.0,>=2.1.0->-r requirements.txt (line 1)) (1.0.2)\n",
            "Requirement already satisfied: wasabi<1.1.0,>=0.2.0 in /usr/local/lib/python3.6/dist-packages (from spacy<2.2.0,>=2.1.0->-r requirements.txt (line 1)) (0.6.0)\n",
            "Requirement already satisfied: blis<0.3.0,>=0.2.2 in /usr/local/lib/python3.6/dist-packages (from spacy<2.2.0,>=2.1.0->-r requirements.txt (line 1)) (0.2.4)\n",
            "Requirement already satisfied: importlib-metadata>=0.12; python_version < \"3.8\" in /usr/local/lib/python3.6/dist-packages (from pytest->-r requirements.txt (line 3)) (1.6.0)\n",
            "Requirement already satisfied: more-itertools>=4.0.0 in /usr/local/lib/python3.6/dist-packages (from pytest->-r requirements.txt (line 3)) (8.2.0)\n",
            "Requirement already satisfied: attrs>=17.4.0 in /usr/local/lib/python3.6/dist-packages (from pytest->-r requirements.txt (line 3)) (19.3.0)\n",
            "Requirement already satisfied: py>=1.5.0 in /usr/local/lib/python3.6/dist-packages (from pytest->-r requirements.txt (line 3)) (1.8.1)\n",
            "Requirement already satisfied: packaging in /usr/local/lib/python3.6/dist-packages (from pytest->-r requirements.txt (line 3)) (20.3)\n",
            "Requirement already satisfied: wcwidth in /usr/local/lib/python3.6/dist-packages (from pytest->-r requirements.txt (line 3)) (0.1.9)\n",
            "Requirement already satisfied: pluggy<1.0,>=0.12 in /usr/local/lib/python3.6/dist-packages (from pytest->-r requirements.txt (line 3)) (0.13.1)\n",
            "Requirement already satisfied: tqdm<5.0.0,>=4.10.0 in /usr/local/lib/python3.6/dist-packages (from thinc<7.1.0,>=7.0.8->spacy<2.2.0,>=2.1.0->-r requirements.txt (line 1)) (4.30.0)\n",
            "Requirement already satisfied: chardet<3.1.0,>=3.0.2 in /usr/local/lib/python3.6/dist-packages (from requests<3.0.0,>=2.13.0->spacy<2.2.0,>=2.1.0->-r requirements.txt (line 1)) (3.0.4)\n",
            "Requirement already satisfied: idna<2.9,>=2.5 in /usr/local/lib/python3.6/dist-packages (from requests<3.0.0,>=2.13.0->spacy<2.2.0,>=2.1.0->-r requirements.txt (line 1)) (2.8)\n",
            "Requirement already satisfied: urllib3<1.25,>=1.21.1 in /usr/local/lib/python3.6/dist-packages (from requests<3.0.0,>=2.13.0->spacy<2.2.0,>=2.1.0->-r requirements.txt (line 1)) (1.24.3)\n",
            "Requirement already satisfied: certifi>=2017.4.17 in /usr/local/lib/python3.6/dist-packages (from requests<3.0.0,>=2.13.0->spacy<2.2.0,>=2.1.0->-r requirements.txt (line 1)) (2020.4.5.1)\n",
            "Requirement already satisfied: zipp>=0.5 in /usr/local/lib/python3.6/dist-packages (from importlib-metadata>=0.12; python_version < \"3.8\"->pytest->-r requirements.txt (line 3)) (3.1.0)\n",
            "Requirement already satisfied: six in /usr/local/lib/python3.6/dist-packages (from packaging->pytest->-r requirements.txt (line 3)) (1.12.0)\n",
            "Requirement already satisfied: pyparsing>=2.0.2 in /usr/local/lib/python3.6/dist-packages (from packaging->pytest->-r requirements.txt (line 3)) (2.4.7)\n",
            "Obtaining file:///content/xLingQG-serv/neuralcoref\n",
            "Requirement already satisfied: numpy>=1.15.0 in /usr/local/lib/python3.6/dist-packages (from neuralcoref==4.0) (1.18.2)\n",
            "Requirement already satisfied: boto3 in /usr/local/lib/python3.6/dist-packages (from neuralcoref==4.0) (1.12.39)\n",
            "Requirement already satisfied: requests<3.0.0,>=2.13.0 in /usr/local/lib/python3.6/dist-packages (from neuralcoref==4.0) (2.21.0)\n",
            "Requirement already satisfied: spacy>=2.1.0 in /usr/local/lib/python3.6/dist-packages (from neuralcoref==4.0) (2.1.9)\n",
            "Requirement already satisfied: botocore<1.16.0,>=1.15.39 in /usr/local/lib/python3.6/dist-packages (from boto3->neuralcoref==4.0) (1.15.39)\n",
            "Requirement already satisfied: s3transfer<0.4.0,>=0.3.0 in /usr/local/lib/python3.6/dist-packages (from boto3->neuralcoref==4.0) (0.3.3)\n",
            "Requirement already satisfied: jmespath<1.0.0,>=0.7.1 in /usr/local/lib/python3.6/dist-packages (from boto3->neuralcoref==4.0) (0.9.5)\n",
            "Requirement already satisfied: certifi>=2017.4.17 in /usr/local/lib/python3.6/dist-packages (from requests<3.0.0,>=2.13.0->neuralcoref==4.0) (2020.4.5.1)\n",
            "Requirement already satisfied: urllib3<1.25,>=1.21.1 in /usr/local/lib/python3.6/dist-packages (from requests<3.0.0,>=2.13.0->neuralcoref==4.0) (1.24.3)\n",
            "Requirement already satisfied: idna<2.9,>=2.5 in /usr/local/lib/python3.6/dist-packages (from requests<3.0.0,>=2.13.0->neuralcoref==4.0) (2.8)\n",
            "Requirement already satisfied: chardet<3.1.0,>=3.0.2 in /usr/local/lib/python3.6/dist-packages (from requests<3.0.0,>=2.13.0->neuralcoref==4.0) (3.0.4)\n",
            "Requirement already satisfied: plac<1.0.0,>=0.9.6 in /usr/local/lib/python3.6/dist-packages (from spacy>=2.1.0->neuralcoref==4.0) (0.9.6)\n",
            "Requirement already satisfied: cymem<2.1.0,>=2.0.2 in /usr/local/lib/python3.6/dist-packages (from spacy>=2.1.0->neuralcoref==4.0) (2.0.3)\n",
            "Requirement already satisfied: preshed<2.1.0,>=2.0.1 in /usr/local/lib/python3.6/dist-packages (from spacy>=2.1.0->neuralcoref==4.0) (2.0.1)\n",
            "Requirement already satisfied: blis<0.3.0,>=0.2.2 in /usr/local/lib/python3.6/dist-packages (from spacy>=2.1.0->neuralcoref==4.0) (0.2.4)\n",
            "Requirement already satisfied: thinc<7.1.0,>=7.0.8 in /usr/local/lib/python3.6/dist-packages (from spacy>=2.1.0->neuralcoref==4.0) (7.0.8)\n",
            "Requirement already satisfied: wasabi<1.1.0,>=0.2.0 in /usr/local/lib/python3.6/dist-packages (from spacy>=2.1.0->neuralcoref==4.0) (0.6.0)\n",
            "Requirement already satisfied: murmurhash<1.1.0,>=0.28.0 in /usr/local/lib/python3.6/dist-packages (from spacy>=2.1.0->neuralcoref==4.0) (1.0.2)\n",
            "Requirement already satisfied: srsly<1.1.0,>=0.0.6 in /usr/local/lib/python3.6/dist-packages (from spacy>=2.1.0->neuralcoref==4.0) (1.0.2)\n",
            "Requirement already satisfied: python-dateutil<3.0.0,>=2.1 in /usr/local/lib/python3.6/dist-packages (from botocore<1.16.0,>=1.15.39->boto3->neuralcoref==4.0) (2.8.1)\n",
            "Requirement already satisfied: docutils<0.16,>=0.10 in /usr/local/lib/python3.6/dist-packages (from botocore<1.16.0,>=1.15.39->boto3->neuralcoref==4.0) (0.15.2)\n",
            "Requirement already satisfied: tqdm<5.0.0,>=4.10.0 in /usr/local/lib/python3.6/dist-packages (from thinc<7.1.0,>=7.0.8->spacy>=2.1.0->neuralcoref==4.0) (4.30.0)\n",
            "Requirement already satisfied: six>=1.5 in /usr/local/lib/python3.6/dist-packages (from python-dateutil<3.0.0,>=2.1->botocore<1.16.0,>=1.15.39->boto3->neuralcoref==4.0) (1.12.0)\n",
            "Installing collected packages: neuralcoref\n",
            "  Running setup.py develop for neuralcoref\n",
            "Successfully installed neuralcoref\n"
          ],
          "name": "stdout"
        }
      ]
    },
    {
      "cell_type": "code",
      "metadata": {
        "id": "RucwgXuCBH5P",
        "colab_type": "code",
        "outputId": "ff3b4ce7-87a8-4044-dc7b-327804aa5217",
        "colab": {
          "base_uri": "https://localhost:8080/",
          "height": 241
        }
      },
      "source": [
        "%cd ..\n",
        "!python -m spacy download en_core_web_lg"
      ],
      "execution_count": 0,
      "outputs": [
        {
          "output_type": "stream",
          "text": [
            "Collecting en_core_web_lg==2.1.0\n",
            "\u001b[?25l  Downloading https://github.com/explosion/spacy-models/releases/download/en_core_web_lg-2.1.0/en_core_web_lg-2.1.0.tar.gz (826.9MB)\n",
            "\u001b[K     |████████████████████████████████| 826.9MB 1.4MB/s \n",
            "\u001b[?25hBuilding wheels for collected packages: en-core-web-lg\n",
            "  Building wheel for en-core-web-lg (setup.py) ... \u001b[?25l\u001b[?25hdone\n",
            "  Created wheel for en-core-web-lg: filename=en_core_web_lg-2.1.0-cp36-none-any.whl size=828255078 sha256=0bc28e6106e83b0f20449bc4efe2069d7b371eac1d8dc0bee8292c06a0ef87a2\n",
            "  Stored in directory: /tmp/pip-ephem-wheel-cache-ykjoconn/wheels/b4/d7/70/426d313a459f82ed5e06cc36a50e2bb2f0ec5cb31d8e0bdf09\n",
            "Successfully built en-core-web-lg\n",
            "Installing collected packages: en-core-web-lg\n",
            "Successfully installed en-core-web-lg-2.1.0\n",
            "\u001b[38;5;2m✔ Download and installation successful\u001b[0m\n",
            "You can now load the model via spacy.load('en_core_web_lg')\n"
          ],
          "name": "stdout"
        }
      ]
    },
    {
      "cell_type": "code",
      "metadata": {
        "id": "mZV5QbqtAqhq",
        "colab_type": "code",
        "outputId": "6e9715bf-3a9e-465c-8a11-ce5d0ffeb621",
        "colab": {
          "base_uri": "https://localhost:8080/",
          "height": 54
        }
      },
      "source": [
        "!python eval_paragraph.py"
      ],
      "execution_count": 0,
      "outputs": [
        {
          "output_type": "stream",
          "text": [
            "Stats: Total Sentences: 63, Total Tokens: 992, Total_Questions: 0, Question_per_sentence = 0.0, Question_per_token = 0.0\n"
          ],
          "name": "stdout"
        }
      ]
    },
    {
      "cell_type": "code",
      "metadata": {
        "id": "tCj2Es40uW7Q",
        "colab_type": "code",
        "outputId": "ac2d8d0c-2616-4254-eac7-048283868db2",
        "colab": {
          "base_uri": "https://localhost:8080/",
          "height": 105
        }
      },
      "source": [
        "!python eval.py --qg"
      ],
      "execution_count": 0,
      "outputs": [
        {
          "output_type": "stream",
          "text": [
            "\r  0% 0/11529 [00:00<?, ?it/s]/usr/local/lib/python3.6/dist-packages/torchtext/data/field.py:359: UserWarning: To copy construct from a tensor, it is recommended to use sourceTensor.clone().detach() or sourceTensor.clone().detach().requires_grad_(True), rather than torch.tensor(sourceTensor).\n",
            "  var = torch.tensor(arr, dtype=self.dtype, device=device)\n",
            "100% 11529/11529 [08:39<00:00, 26.28it/s]\n",
            "QG-Score: BLEU = 15.23 54.4/25.1/15.7/10.1 (BP = 0.706 ratio = 0.742 hyp_len = 97258 ref_len = 131053)\n"
          ],
          "name": "stdout"
        }
      ]
    },
    {
      "cell_type": "code",
      "metadata": {
        "id": "E6pjzRCdSB81",
        "colab_type": "code",
        "outputId": "11661170-a9be-4f19-9d25-cf7e57d0c0f8",
        "colab": {
          "base_uri": "https://localhost:8080/",
          "height": 169
        }
      },
      "source": [
        "!python eval.py --translate"
      ],
      "execution_count": 0,
      "outputs": [
        {
          "output_type": "stream",
          "text": [
            "loading archive file ./models\n",
            "| [en] dictionary: 61224 types\n",
            "| [de] dictionary: 61224 types\n",
            "Namespace(activation_dropout=0.0, activation_fn='relu', adam_betas='(0.9,0.98)', adam_eps=1e-08, adaptive_input=False, adaptive_softmax_cutoff=None, adaptive_softmax_dropout=0, alignment_heads=1, alignment_lambda=0.05, alignment_layer=4, all_gather_list_size=16384, arch='transformer_wmt_en_de_big_align', attention_dropout=0.1, best_checkpoint_metric='loss', bpe='fastbpe', bpe_codes='./models/bpecodes', broadcast_buffers=False, bucket_cap_mb=25, clip_norm=0.0, cpu=False, criterion='label_smoothed_cross_entropy_with_alignment', cross_self_attention=False, curriculum=0, data='/content/xLingQG-serv/models', dataset_impl=None, ddp_backend='c10d', decoder_attention_heads=16, decoder_embed_dim=1024, decoder_embed_path=None, decoder_ffn_embed_dim=4096, decoder_input_dim=1024, decoder_layerdrop=0, decoder_layers=6, decoder_layers_to_keep=None, decoder_learned_pos=False, decoder_normalize_before=False, decoder_output_dim=1024, device_id=0, disable_validation=False, distributed_backend='nccl', distributed_init_method=None, distributed_no_spawn=False, distributed_port=-1, distributed_rank=0, distributed_world_size=1, dropout=0.3, empty_cache_freq=0, encoder_attention_heads=16, encoder_embed_dim=1024, encoder_embed_path=None, encoder_ffn_embed_dim=4096, encoder_layerdrop=0, encoder_layers=6, encoder_layers_to_keep=None, encoder_learned_pos=False, encoder_normalize_before=False, eval_bleu=False, eval_bleu_args=None, eval_bleu_detok='space', eval_bleu_detok_args=None, eval_bleu_print_samples=False, eval_bleu_remove_bpe=None, eval_tokenized_bleu=False, fast_stat_sync=False, find_unused_parameters=False, fix_batches_to_gpus=False, fixed_validation_seed=None, fp16=False, fp16_init_scale=128, fp16_no_flatten_grads=False, fp16_scale_tolerance=0.0, fp16_scale_window=None, full_context_alignment=False, keep_best_checkpoints=-1, keep_interval_updates=-1, keep_last_epochs=19, label_smoothing=0.1, layer_wise_attention=False, layernorm_embedding=False, left_pad_source=False, left_pad_target=False, load_alignments=True, log_format=None, log_interval=1000, lr=[0.0002], lr_scheduler='inverse_sqrt', max_epoch=0, max_sentences=None, max_sentences_valid=None, max_source_positions=1024, max_target_positions=1024, max_tokens=3500, max_tokens_valid=3500, max_update=0, maximize_best_checkpoint_metric=False, memory_efficient_fp16=False, min_loss_scale=0.0001, min_lr=-1, moses_no_dash_splits=False, moses_no_escape=False, no_cross_attention=False, no_epoch_checkpoints=False, no_last_checkpoints=False, no_progress_bar=False, no_save=False, no_save_optimizer_state=False, no_scale_embedding=False, no_token_positional_embeddings=False, num_workers=1, optimizer='adam', optimizer_overrides='{}', patience=-1, required_batch_size_multiple=8, reset_dataloader=False, reset_lr_scheduler=False, reset_meters=False, reset_optimizer=False, restore_file='checkpoint_last.pt', save_dir='mnt/fairseq/checkpoiints', save_interval=1, save_interval_updates=0, seed=1, sentence_avg=False, share_all_embeddings=True, share_decoder_input_output_embed=True, skip_invalid_size_inputs_valid_test=False, source_lang='en', target_lang='de', task='translation', tensorboard_logdir='', threshold_loss_scale=None, tokenizer='moses', train_subset='train', truncate_source=False, update_freq=[1], upsample_primary=1, use_bmuf=False, use_old_adam=False, user_dir=None, valid_subset='valid', validate_interval=1, warmup_init_lr=1e-07, warmup_updates=4000, weight_decay=0.0)\n",
            "Loading codes from ./models/bpecodes ...\n",
            "Read 32000 codes from the codes file.\n",
            "  3% 89/3003 [00:57<26:48,  1.81it/s]"
          ],
          "name": "stdout"
        }
      ]
    }
  ]
}